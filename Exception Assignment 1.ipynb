{
 "cells": [
  {
   "cell_type": "markdown",
   "id": "fd313de6-2ddb-4355-b1c1-0e103da3c26c",
   "metadata": {},
   "source": [
    "#### Q1. What is an Exception in python? Write the difference between Exceptions and syntax errors."
   ]
  },
  {
   "cell_type": "markdown",
   "id": "d12794fd-9f95-483c-b0b0-40370dd18e6d",
   "metadata": {},
   "source": [
    "An exception is an event that occurs during the execution of a program that disrupts the normal flow of the program's instructions.\n",
    "Exceptions are raised when an error or unexpected condition is encountered in your code.\n",
    "Exception: Occurs during program execution due to runtime errors or unexpected conditions.\n",
    "Syntax Error: Detected during code parsing (before execution) due to violations of Python's syntax rules."
   ]
  },
  {
   "cell_type": "markdown",
   "id": "18d65895-c711-4a8a-a3e0-5926300fb83d",
   "metadata": {},
   "source": [
    "#### Q2. What happens when an exception is not handled? Explain with an example."
   ]
  },
  {
   "cell_type": "code",
   "execution_count": 1,
   "id": "b853e52e-fbbb-4459-a5a2-06c685bd28f6",
   "metadata": {},
   "outputs": [
    {
     "ename": "ZeroDivisionError",
     "evalue": "division by zero",
     "output_type": "error",
     "traceback": [
      "\u001b[0;31m---------------------------------------------------------------------------\u001b[0m",
      "\u001b[0;31mZeroDivisionError\u001b[0m                         Traceback (most recent call last)",
      "Cell \u001b[0;32mIn[1], line 4\u001b[0m\n\u001b[1;32m      1\u001b[0m \u001b[38;5;66;03m#When an exceptionn is not handled properly it would not allow the program to run or provide an output. It will show an error.\u001b[39;00m\n\u001b[1;32m      2\u001b[0m \u001b[38;5;66;03m#Example\u001b[39;00m\n\u001b[1;32m      3\u001b[0m a \u001b[38;5;241m=\u001b[39m \u001b[38;5;241m10\u001b[39m\n\u001b[0;32m----> 4\u001b[0m \u001b[38;5;241;43m10\u001b[39;49m\u001b[38;5;241;43m/\u001b[39;49m\u001b[38;5;241;43m0\u001b[39;49m\n",
      "\u001b[0;31mZeroDivisionError\u001b[0m: division by zero"
     ]
    }
   ],
   "source": [
    "#When an exceptionn is not handled properly it would not allow the program to run or provide an output. It will show an error.\n",
    "#Example\n",
    "a = 10\n",
    "10/0"
   ]
  },
  {
   "cell_type": "markdown",
   "id": "10bd6d45-6bab-4bf2-b8d6-0edd19cad42e",
   "metadata": {},
   "source": [
    "#### Q3. Which Python statements are used to catch and handle exceptions? Explain with an example."
   ]
  },
  {
   "cell_type": "code",
   "execution_count": 3,
   "id": "0e06173b-e2f0-48e7-859a-5808583d45bc",
   "metadata": {},
   "outputs": [
    {
     "name": "stdout",
     "output_type": "stream",
     "text": [
      "division by zero\n",
      "this will always execute\n"
     ]
    }
   ],
   "source": [
    "#Python statements used to catch and handle exceptions are try, except, else, and finally.\n",
    "try:\n",
    "    a = 10\n",
    "    10/0\n",
    "except ZeroDivisionError as e:\n",
    "    print(e)\n",
    "else:\n",
    "    print(\"it will execute after try\")\n",
    "finally:\n",
    "    print(\"this will always execute\")"
   ]
  },
  {
   "cell_type": "markdown",
   "id": "36beb1ea-a6ac-4ce7-a44d-689209e04239",
   "metadata": {},
   "source": [
    "#### Q4. Explain with an example:\n",
    "#### a)try and else\n",
    "#### b)finally\n",
    "#### c)raise"
   ]
  },
  {
   "cell_type": "code",
   "execution_count": 4,
   "id": "4353fd6f-e0f5-4762-bac8-d58c2592252a",
   "metadata": {},
   "outputs": [
    {
     "name": "stdout",
     "output_type": "stream",
     "text": [
      "this will execute once try run without any exception\n"
     ]
    }
   ],
   "source": [
    "try :\n",
    "    a = 10\n",
    "    10/5\n",
    "except ZeroDivisionError as e:\n",
    "    print(e)\n",
    "else:\n",
    "    print(\"this will execute once try run without any exception\")"
   ]
  },
  {
   "cell_type": "code",
   "execution_count": 5,
   "id": "f62c3059-3f69-4f60-8b4f-fa3c2209ad05",
   "metadata": {},
   "outputs": [
    {
     "name": "stdout",
     "output_type": "stream",
     "text": [
      "invalid literal for int() with base 10: 'abhi'\n",
      "this will execute always\n"
     ]
    }
   ],
   "source": [
    "try:\n",
    "    int(\"abhi\")\n",
    "except ValueError as e:\n",
    "    print(e)\n",
    "finally:\n",
    "    print(\"this will execute always\")"
   ]
  },
  {
   "cell_type": "code",
   "execution_count": 6,
   "id": "d3ae0c8d-d02e-4dac-beb6-c5b84e3b8438",
   "metadata": {},
   "outputs": [],
   "source": [
    "def validate_age(age):\n",
    "    if age < 0:\n",
    "        raise validateage('age cannot be lesser then 0')\n",
    "    elif age > 200:\n",
    "        raise validateage('age is  to  high')\n",
    "    else:\n",
    "        print('age is valid')"
   ]
  },
  {
   "cell_type": "markdown",
   "id": "1db61027-d304-42a2-bcca-8adefb11c151",
   "metadata": {},
   "source": [
    "#### Q5. What are Custom Exceptions in python? Why do we need Custom Exceptions? Explain with an example."
   ]
  },
  {
   "cell_type": "code",
   "execution_count": 7,
   "id": "548a8bd9-7e64-4ccd-ad22-b43612978521",
   "metadata": {},
   "outputs": [],
   "source": [
    "\"\"\"\n",
    "Custom exceptions, also known as user-defined exceptions, allow you to define your own exception classes to represent specific error conditions that \n",
    "are relevant to your program.\n",
    "Custom exceptions are needed in Python to provide clear and specific error handling for your code. By defining custom exception classes with meaningful\n",
    "names and error messages, you make it easier to understand and manage exceptional situations in your program.\n",
    "\"\"\"\n",
    "class ValidateAge(Exception):\n",
    "    def __init__(self, age):\n",
    "        self.age = age"
   ]
  },
  {
   "cell_type": "code",
   "execution_count": 8,
   "id": "0a414b35-87fe-4a41-a554-6d039e373457",
   "metadata": {},
   "outputs": [],
   "source": [
    "def Validate_Age(age):\n",
    "    if age < 0:\n",
    "        raise validateage('age cannot be lesser then 0')\n",
    "    elif age > 200:\n",
    "        raise validateage('age is  to  high')\n",
    "    else:\n",
    "        print('age is valid')"
   ]
  },
  {
   "cell_type": "code",
   "execution_count": 9,
   "id": "65c59e9f-6d01-4dfa-9038-315d7604f3dd",
   "metadata": {},
   "outputs": [
    {
     "name": "stdin",
     "output_type": "stream",
     "text": [
      "Enter your age 55\n"
     ]
    },
    {
     "name": "stdout",
     "output_type": "stream",
     "text": [
      "age is valid\n"
     ]
    }
   ],
   "source": [
    "try:\n",
    "    age = int(input('Enter your age'))\n",
    "    Validate_Age(age)\n",
    "except ValidateAge  as e:\n",
    "    print(e)"
   ]
  },
  {
   "cell_type": "markdown",
   "id": "96f6386a-c174-4e1a-91a6-0b10005ef841",
   "metadata": {},
   "source": [
    "#### Q6. Create a custom exception class. Use this class to handle an exception."
   ]
  },
  {
   "cell_type": "code",
   "execution_count": 6,
   "id": "bb000f74-9674-49a6-b89a-7e6968d7ff0c",
   "metadata": {},
   "outputs": [],
   "source": [
    "class validateamount(Exception):\n",
    "    def __init__(self, amount):\n",
    "        self.amount = amount"
   ]
  },
  {
   "cell_type": "code",
   "execution_count": 7,
   "id": "e8b10844-6e78-4910-907e-d45d345b5d21",
   "metadata": {},
   "outputs": [],
   "source": [
    "def ATM(amount):\n",
    "    if amount < 200:\n",
    "        raise validateamount(\"amount cannot be lesser \")\n",
    "    elif amount > 20000:\n",
    "        raise validateamount(\"amount cannot be greater then 20000\")\n",
    "    else:\n",
    "        print(\"Transaction processed\")"
   ]
  },
  {
   "cell_type": "code",
   "execution_count": 8,
   "id": "c24d14a4-797c-4fcf-8975-c417fd37058a",
   "metadata": {},
   "outputs": [
    {
     "name": "stdin",
     "output_type": "stream",
     "text": [
      "Enter the amounnt 50\n"
     ]
    },
    {
     "name": "stdout",
     "output_type": "stream",
     "text": [
      "amount cannot be lesser \n"
     ]
    }
   ],
   "source": [
    "try:\n",
    "    amount = int(input(\"Enter the amounnt\"))\n",
    "    ATM(amount)\n",
    "except validateamount as e:\n",
    "    print(e)"
   ]
  },
  {
   "cell_type": "code",
   "execution_count": null,
   "id": "cfff9313-35b0-4c0d-a30a-015062748ba7",
   "metadata": {},
   "outputs": [],
   "source": []
  }
 ],
 "metadata": {
  "kernelspec": {
   "display_name": "Python 3 (ipykernel)",
   "language": "python",
   "name": "python3"
  },
  "language_info": {
   "codemirror_mode": {
    "name": "ipython",
    "version": 3
   },
   "file_extension": ".py",
   "mimetype": "text/x-python",
   "name": "python",
   "nbconvert_exporter": "python",
   "pygments_lexer": "ipython3",
   "version": "3.10.8"
  }
 },
 "nbformat": 4,
 "nbformat_minor": 5
}
